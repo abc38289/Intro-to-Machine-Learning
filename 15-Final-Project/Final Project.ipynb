{
 "cells": [
  {
   "cell_type": "markdown",
   "id": "fa308b4e",
   "metadata": {},
   "source": [
    "# Final Project\n",
    "\n",
    "## Project Overview\n",
    "In this project, you will play detective, and put your machine learning skills to use by building an algorithm to identify Enron Employees who may have committed fraud based on the public Enron financial and email dataset.\n",
    "\n",
    "## Why this Project?\n",
    "This project will teach you the end-to-end process of investigating data through a machine learning lens.\n",
    "\n",
    "It will teach you how to extract/identify useful features that best represents your data, a few of the most commonly used machine learning algorithms today, and how to evaluate the performance of your machine learning algorithms.\n",
    "\n",
    "## What will I learn?\n",
    "By the end of the project, you will be able to:\n",
    "\n",
    "- Deal with an imperfect, real-world dataset\n",
    "- Validate a machine learning result using test data\n",
    "- Evaluate a machine learning result using quantitative metrics\n",
    "- Create, select and transform features compare the performance of machine learning algorithms\n",
    "- Tune machine learning algorithms for maximum performance\n",
    "- Communicate your machine learning algorithm results clearly\n",
    "\n",
    "## Why is this Important to my Career?\n",
    "Machine Learning is a first-class ticket to the most exciting careers in data analysis today.\n",
    "\n",
    "As data sources proliferate along with the computing power to process them, going straight to the data is one of the most straightforward ways to quickly gain insights and make predictions.\n",
    "\n",
    "Machine learning brings together computer science and statistics to harness that predictive power."
   ]
  },
  {
   "cell_type": "markdown",
   "id": "531c254c",
   "metadata": {},
   "source": [
    "# Project Details\n",
    "## Project Introduction\n",
    "In 2000, Enron was one of the largest companies in the United States. By 2002, it had collapsed into bankruptcy due to widespread corporate fraud. In the resulting Federal investigation, there was a significant amount of typically confidential information entered into public record, including tens of thousands of emails and detailed financial data for top executives. In this project, you will play detective, and put your new skills to use by building a person of interest identifier based on financial and email data made public as a result of the Enron scandal. To assist you in your detective work, we've combined this data with a hand-generated list of persons of interest in the fraud case, which means individuals who were indicted, reached a settlement, or plea deal with the government, or testified in exchange for prosecution immunity.\n",
    "\n",
    "## Pep Talk\n",
    "A note before you begin: the projects in the Intro to Machine Learning class were mostly designed to have lots of data points, give intuitive results, and otherwise behave nicely. This project is significantly tougher in that we're now using the real data, which can be messy and doesn't have as many data points as we usually hope for when doing machine learning. Don't get discouraged--imperfect data is something you need to be used to as a data analyst! If you encounter something you haven't seen before, take a step back and think about a smart way around. You can do it!\n",
    "\n",
    "## Resources Needed\n",
    "You should have python and sklearn running on your computer, as well as the starter code (both python scripts and the Enron dataset) that you downloaded as part of the first mini-project in the Intro to Machine Learning course. The starter code can be found in the final_project directory of the codebase that you downloaded for use with the mini-projects. Some relevant files:\n",
    "\n",
    "poi_id.py : starter code for the POI identifier, you will write your analysis here\n",
    "\n",
    "final_project_dataset.pkl : the dataset for the project, more details below\n",
    "\n",
    "tester.py : when you turn in your analysis for evaluation by a Udacity evaluator, you will submit the algorithm, dataset and list of features that you use (these are created automatically in poi_id.py). The evaluator will then use this code to test your result, to make sure we see performance that’s similar to what you report. You don’t need to do anything with this code, but we provide it for transparency and for your reference.\n",
    "\n",
    "emails_by_address : this directory contains many text files, each of which contains all the messages to or from a particular email address. It is for your reference, if you want to create more advanced features based on the details of the emails dataset.\n",
    "\n",
    "## Steps to Success\n",
    "We will provide you with starter code, that reads in the data, takes your features of choice, then puts them into a numpy array, which is the input form that most sklearn functions assume. Your job is to engineer the features, pick and tune an algorithm, test, and evaluate your identifier. Several of the mini-projects were designed with this final project in mind, so be on the lookout for ways to use the work you’ve already done.\n",
    "\n",
    "The features in the data fall into three major types, namely financial features, email features and POI labels.\n",
    "\n",
    "- financial features: ['salary', 'deferral_payments', 'total_payments', 'loan_advances', 'bonus', 'restricted_stock_deferred', 'deferred_income', 'total_stock_value', 'expenses', 'exercised_stock_options', 'other', 'long_term_incentive', 'restricted_stock', 'director_fees'] (all units are in US dollars)\n",
    "- email features: ['to_messages', 'email_address', 'from_poi_to_this_person', 'from_messages', 'from_this_person_to_poi', 'shared_receipt_with_poi'] (units are generally number of emails messages; notable exception is ‘email_address’, which is a text string)\n",
    "- POI label: [‘poi’] (boolean, represented as integer)\n",
    "\n",
    "You are encouraged to make, transform or rescale new features from the starter features. If you do this, you should store the new feature to my_dataset, and if you use the new feature in the final algorithm, you should also add the feature name to my_feature_list, so your coach can access it during testing. For a concrete example of a new feature that you could add to the dataset, refer to the lesson on Feature Selection."
   ]
  },
  {
   "cell_type": "markdown",
   "id": "68664e88",
   "metadata": {},
   "source": [
    "# Project Evaluation\n",
    "## Final Project Evaulation Instructions\n",
    "\n",
    "When you're finished, your project will have 2 parts: the code/classifier you create and some written documentation of your work. Share your project with others and self-evaluate your project according to the rubric [here](https://review.udacity.com/#!/projects/3174288624/rubric).\n",
    "\n",
    "Before you start working on the project: Review the final project rubric carefully. Think about the following questions - How will you incorporate each of the rubric criterion into your project? Why are these aspects important? What is your strategy to ensure that your project “meets specifications” in the given criteria? Once you are convinced that you understand each part of the rubric, please start working on your project. Remember to refer to the rubric often to ensure that you are on the right track.\n",
    "\n",
    "## Items to include when sharing your work with others for feedback:\n",
    "## Code/Classifier\n",
    "When making your classifier, you will create three pickle files (my_dataset.pkl, my_classifier.pkl, my_feature_list.pkl). The project evaluator will test these using the tester.py script. You are encouraged to use this script before checking to gauge if your performance is good enough. You should also include your modified poi_id.py file in case of any issues with running your code or to verify what is reported in your question responses (see next paragraph).\n",
    "\n",
    "## Documentation of Your Work\n",
    "Document the work you've done by answering (in about a paragraph each) the questions found [here](https://docs.google.com/document/d/1NDgi1PrNJP7WTbfSUuRUnz8yzs5nGVTSzpO7oeNTEWA/edit?usp=sharing). You can write your answers in a PDF, Word document, text file, or similar format.\n",
    "\n",
    "##  Setup"
   ]
  },
  {
   "cell_type": "code",
   "execution_count": 1,
   "id": "1d5dfc25",
   "metadata": {},
   "outputs": [],
   "source": [
    "#!/usr/bin/python\n",
    "# poi_id.py\n",
    "import sys\n",
    "import pickle\n",
    "sys.path.append(\"../tools/\")\n",
    "\n",
    "from feature_format import featureFormat, targetFeatureSplit\n",
    "from tester import dump_classifier_and_data\n",
    "\n",
    "### Task 1: Select what features you'll use.\n",
    "### features_list is a list of strings, each of which is a feature name.\n",
    "### The first feature must be \"poi\".\n",
    "features_list = ['poi','salary'] # You will need to use more features\n",
    "\n",
    "### Load the dictionary containing the dataset\n",
    "with open(\"final_project_dataset.pkl\", \"rb\") as data_file:\n",
    "    data_dict = pickle.load(data_file)\n",
    "\n",
    "### Task 2: Remove outliers\n",
    "### Task 3: Create new feature(s)\n",
    "### Store to my_dataset for easy export below.\n",
    "my_dataset = data_dict\n",
    "\n",
    "### Extract features and labels from dataset for local testing\n",
    "data = featureFormat(my_dataset, features_list, sort_keys = True)\n",
    "labels, features = targetFeatureSplit(data)\n",
    "\n",
    "### Task 4: Try a varity of classifiers\n",
    "### Please name your classifier clf for easy export below.\n",
    "### Note that if you want to do PCA or other multi-stage operations,\n",
    "### you'll need to use Pipelines. For more info:\n",
    "### http://scikit-learn.org/stable/modules/pipeline.html\n",
    "\n",
    "# Provided to give you a starting point. Try a variety of classifiers.\n",
    "from sklearn.naive_bayes import GaussianNB\n",
    "clf = GaussianNB()\n",
    "\n",
    "### Task 5: Tune your classifier to achieve better than .3 precision and recall \n",
    "### using our testing script. Check the tester.py script in the final project\n",
    "### folder for details on the evaluation method, especially the test_classifier\n",
    "### function. Because of the small size of the dataset, the script uses\n",
    "### stratified shuffle split cross validation. For more info: \n",
    "### http://scikit-learn.org/stable/modules/generated/sklearn.cross_validation.StratifiedShuffleSplit.html\n",
    "\n",
    "# Example starting point. Try investigating other evaluation techniques!\n",
    "from sklearn.model_selection import train_test_split\n",
    "features_train, features_test, labels_train, labels_test = \\\n",
    "    train_test_split(features, labels, test_size=0.3, random_state=42)\n",
    "\n",
    "### Task 6: Dump your classifier, dataset, and features_list so anyone can\n",
    "### check your results. You do not need to change anything below, but make sure\n",
    "### that the version of poi_id.py that you submit can be run on its own and\n",
    "### generates the necessary .pkl files for validating your results.\n",
    "\n",
    "dump_classifier_and_data(clf, my_dataset, features_list)"
   ]
  },
  {
   "cell_type": "code",
   "execution_count": 2,
   "id": "11eb9cc0",
   "metadata": {},
   "outputs": [
    {
     "name": "stdout",
     "output_type": "stream",
     "text": [
      "GaussianNB()\n",
      "\tAccuracy: 0.25560\tPrecision: 0.18481\tRecall: 0.79800\tF1: 0.30011\tF2: 0.47968\n",
      "\tTotal predictions: 10000\tTrue positives: 1596\tFalse positives: 7040\tFalse negatives:  404\tTrue negatives:  960\n",
      "\n"
     ]
    }
   ],
   "source": [
    "# tester.py\n",
    "from tester import main\n",
    "main()"
   ]
  },
  {
   "cell_type": "markdown",
   "id": "014f9dfa",
   "metadata": {},
   "source": [
    "## Modularize\n",
    "\n",
    "This part is learning from [Parthiban Rajendran](https://intro-to-machine-learning.readthedocs.io/Final%20Project/Part%201%20-%20Dipping%20the%20Toe/).\n",
    "\n",
    "We are going to repeat the entire process of poi_id.py for evaluation almost every time we come up with new findings. So we will modularize such that, we could just call the relevant functions instead to make it more readable.Below are the modularized functions to start with.\n",
    "\n",
    "Note we will not finish one stage (out of 4 shown above) and then go next. We will do iterative developement going back and forth."
   ]
  },
  {
   "cell_type": "code",
   "execution_count": 7,
   "id": "64b64a39",
   "metadata": {},
   "outputs": [
    {
     "name": "stdout",
     "output_type": "stream",
     "text": [
      "\u001b[5;34mGaussianNB:\u001b[0m\n",
      "GaussianNB()\n",
      "\tAccuracy: 0.25560\tPrecision: 0.18481\tRecall: 0.79800\tF1: 0.30011\tF2: 0.47968\n",
      "\tTotal predictions: 10000\tTrue positives: 1596\tFalse positives: 7040\tFalse negatives:  404\tTrue negatives:  960\n",
      "\n",
      "\u001b[5;34mSVC Untuned:\u001b[0m\n",
      "SVC()\n",
      "\tAccuracy: 0.79920\tPrecision: 0.16667\tRecall: 0.00100\tF1: 0.00199\tF2: 0.00125\n",
      "\tTotal predictions: 10000\tTrue positives:    2\tFalse positives:   10\tFalse negatives: 1998\tTrue negatives: 7990\n",
      "\n",
      "\u001b[5;34mKMeans Untuned:\u001b[0m\n",
      "KMeans(n_clusters=2, n_init='auto')\n",
      "\tAccuracy: 0.77660\tPrecision: 0.18548\tRecall: 0.03450\tF1: 0.05818\tF2: 0.04121\n",
      "\tTotal predictions: 10000\tTrue positives:   69\tFalse positives:  303\tFalse negatives: 1931\tTrue negatives: 7697\n",
      "\n",
      "\u001b[5;34mDecision Tree Untuned:\u001b[0m\n",
      "DecisionTreeClassifier(random_state=0)\n",
      "\tAccuracy: 0.69210\tPrecision: 0.23619\tRecall: 0.24150\tF1: 0.23881\tF2: 0.24042\n",
      "\tTotal predictions: 10000\tTrue positives:  483\tFalse positives: 1562\tFalse negatives: 1517\tTrue negatives: 6438\n",
      "\n"
     ]
    }
   ],
   "source": [
    "from IPython.utils.coloransi import TermColors as color # just for color gimmicks on output\n",
    "\n",
    "print('{1}GaussianNB:{0}'.format(color.Normal, color.BlinkBlue))\n",
    "from sklearn.naive_bayes import GaussianNB\n",
    "clf = GaussianNB()\n",
    "dump_classifier_and_data(clf, my_dataset, features_list)\n",
    "main()\n",
    "\n",
    "print('{1}SVC Untuned:{0}'.format(color.Normal, color.BlinkBlue))\n",
    "from sklearn.svm import SVC\n",
    "clf = SVC()\n",
    "dump_classifier_and_data(clf, my_dataset, features_list)\n",
    "main()\n",
    "\n",
    "print('{1}KMeans Untuned:{0}'.format(color.Normal, color.BlinkBlue))\n",
    "from sklearn.cluster import KMeans\n",
    "clf = KMeans(n_clusters=2, n_init=\"auto\")\n",
    "dump_classifier_and_data(clf, my_dataset, features_list)\n",
    "main()\n",
    "\n",
    "print('{1}Decision Tree Untuned:{0}'.format(color.Normal, color.BlinkBlue)) \n",
    "random_state = 0\n",
    "from sklearn import tree\n",
    "clf = tree.DecisionTreeClassifier(random_state=random_state)\n",
    "dump_classifier_and_data(clf, my_dataset, features_list)  \n",
    "_ = main()     # we made tester.py to return trained clf so to avoid re printing classifier in ipython we assign to dummy"
   ]
  },
  {
   "cell_type": "markdown",
   "id": "9e18c52c",
   "metadata": {},
   "source": [
    "In Parthiban Rajendran's result, SVC outright failed, KMeans and Decision Tree are already giving much better accuracy. But what we've got is SVC and KMeans giving much better accuracy. Before we pick one of SVC or KMeans, let us check one more trap - Zero Prediction Accuracy.\n",
    "\n",
    "**What if our classifier always predicts non-POI?** Let us find out with a dummy classifier. Note we are also starting to use pandas."
   ]
  },
  {
   "cell_type": "code",
   "execution_count": 10,
   "id": "815ed6bb",
   "metadata": {},
   "outputs": [
    {
     "name": "stdout",
     "output_type": "stream",
     "text": [
      "Total no. of records: 146\n",
      "Total no. of POIs: 18\n",
      "Total no. of non-POIs: 128\n",
      "Got a divide by zero when trying out: DummyClassifier(constant=False, random_state=0, strategy='constant')\n",
      "Precision or recall may be undefined due to a lack of true positive predicitons.\n"
     ]
    }
   ],
   "source": [
    "import pandas as pd\n",
    "df = pd.DataFrame.from_dict(my_dataset, orient='index')\n",
    "\n",
    "print('Total no. of records: {}'.format(df.shape[0]))\n",
    "print('Total no. of POIs: {}'.format(df.loc[df['poi'] == True].shape[0]))\n",
    "print('Total no. of non-POIs: {}'.format(df.loc[df['poi'] == False].shape[0]))\n",
    "\n",
    "from sklearn.dummy import DummyClassifier\n",
    "clf = DummyClassifier(strategy='constant', random_state=0, constant=False)\n",
    "dump_classifier_and_data(clf, my_dataset, features_list)\n",
    "clf = main()"
   ]
  },
  {
   "cell_type": "markdown",
   "id": "5455e40f",
   "metadata": {},
   "source": [
    "In the case of a `DummyClassifier` with `strategy='constant'` and `constant=False`, it will always predict `False` for all instances. Therefore, there won't be any true positives (correctly predicted POIs) or false positives (incorrectly predicted POIs) since it never predicts a positive (POI) class."
   ]
  },
  {
   "cell_type": "markdown",
   "id": "8cf57e32",
   "metadata": {},
   "source": [
    "It seems too complicated now, so I ran through the [Parthiban Rajendran](https://intro-to-machine-learning.readthedocs.io/Final%20Project/Part%201%20-%20Dipping%20the%20Toe/) version once. I will return to complete it in the future."
   ]
  },
  {
   "cell_type": "code",
   "execution_count": null,
   "id": "bbd227ad",
   "metadata": {},
   "outputs": [],
   "source": []
  }
 ],
 "metadata": {
  "kernelspec": {
   "display_name": "Python 3 (ipykernel)",
   "language": "python",
   "name": "python3"
  },
  "language_info": {
   "codemirror_mode": {
    "name": "ipython",
    "version": 3
   },
   "file_extension": ".py",
   "mimetype": "text/x-python",
   "name": "python",
   "nbconvert_exporter": "python",
   "pygments_lexer": "ipython3",
   "version": "3.11.4"
  }
 },
 "nbformat": 4,
 "nbformat_minor": 5
}
